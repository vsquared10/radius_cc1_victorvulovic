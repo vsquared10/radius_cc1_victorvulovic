{
 "cells": [
  {
   "cell_type": "code",
   "execution_count": 2,
   "metadata": {
    "collapsed": true
   },
   "outputs": [],
   "source": [
    "import matplotlib.pyplot as plt\n",
    "import pandas as pd\n",
    "import seaborn as sns\n",
    "import zipfile"
   ]
  },
  {
   "cell_type": "code",
   "execution_count": 40,
   "metadata": {
    "collapsed": false
   },
   "outputs": [
    {
     "name": "stdout",
     "output_type": "stream",
     "text": [
      "Populating the interactive namespace from numpy and matplotlib\n"
     ]
    }
   ],
   "source": [
    "%pylab inline"
   ]
  },
  {
   "cell_type": "code",
   "execution_count": 3,
   "metadata": {
    "collapsed": false
   },
   "outputs": [],
   "source": [
    "with zipfile.ZipFile('data.json.zip', 'r') as zipped:\n",
    "    zipped.extractall('data')"
   ]
  },
  {
   "cell_type": "code",
   "execution_count": 3,
   "metadata": {
    "collapsed": false
   },
   "outputs": [],
   "source": [
    "df = pd.read_json(\"data/data_analysis.json\")"
   ]
  },
  {
   "cell_type": "code",
   "execution_count": 5,
   "metadata": {
    "collapsed": false
   },
   "outputs": [
    {
     "data": {
      "text/html": [
       "<div>\n",
       "<table border=\"1\" class=\"dataframe\">\n",
       "  <thead>\n",
       "    <tr style=\"text-align: right;\">\n",
       "      <th></th>\n",
       "      <th>address</th>\n",
       "      <th>category_code</th>\n",
       "      <th>city</th>\n",
       "      <th>headcount</th>\n",
       "      <th>name</th>\n",
       "      <th>phone</th>\n",
       "      <th>revenue</th>\n",
       "      <th>state</th>\n",
       "      <th>time_in_business</th>\n",
       "      <th>zip</th>\n",
       "    </tr>\n",
       "  </thead>\n",
       "  <tbody>\n",
       "    <tr>\n",
       "      <th>0</th>\n",
       "      <td>10085 SCRIPPS RANCH CT STE A</td>\n",
       "      <td>44420000</td>\n",
       "      <td>SAN DIEGO</td>\n",
       "      <td>50 to 99</td>\n",
       "      <td>AMD CUSTOM</td>\n",
       "      <td>3123628000</td>\n",
       "      <td>$20 to 50 Million</td>\n",
       "      <td>CA</td>\n",
       "      <td>10+ years</td>\n",
       "      <td>92131</td>\n",
       "    </tr>\n",
       "    <tr>\n",
       "      <th>1</th>\n",
       "      <td>2566 SHALLOWFORD RD NE STE 104 # 302</td>\n",
       "      <td>31490000</td>\n",
       "      <td>ATLANTA</td>\n",
       "      <td>1 to 4</td>\n",
       "      <td>Real Hope Real Estate Inc</td>\n",
       "      <td>None</td>\n",
       "      <td>Less Than $500,000</td>\n",
       "      <td>GA</td>\n",
       "      <td>10+ years</td>\n",
       "      <td>30345</td>\n",
       "    </tr>\n",
       "    <tr>\n",
       "      <th>2</th>\n",
       "      <td>212 E MAIN ST</td>\n",
       "      <td>53120000</td>\n",
       "      <td>NEOSHO</td>\n",
       "      <td>1 to 4</td>\n",
       "      <td>Jimmy Sexton Photography</td>\n",
       "      <td>4046331779</td>\n",
       "      <td>Less Than $500,000</td>\n",
       "      <td>MO</td>\n",
       "      <td>10+ years</td>\n",
       "      <td>64850</td>\n",
       "    </tr>\n",
       "    <tr>\n",
       "      <th>3</th>\n",
       "      <td>6032 CHEROKEE DR</td>\n",
       "      <td>54000000</td>\n",
       "      <td>CINCINNATI</td>\n",
       "      <td>1 to 4</td>\n",
       "      <td>YOU'RE ART</td>\n",
       "      <td>4174513798</td>\n",
       "      <td>Less Than $500,000</td>\n",
       "      <td>OH</td>\n",
       "      <td>10+ years</td>\n",
       "      <td>45243</td>\n",
       "    </tr>\n",
       "    <tr>\n",
       "      <th>4</th>\n",
       "      <td>1315 N WOOSTER AVE</td>\n",
       "      <td>54100000</td>\n",
       "      <td>STRASBURG</td>\n",
       "      <td>1 to 4</td>\n",
       "      <td>Hayberg Restoration Network LLC</td>\n",
       "      <td>5135612584</td>\n",
       "      <td>$500,000 to $1 Million</td>\n",
       "      <td>OH</td>\n",
       "      <td>10+ years</td>\n",
       "      <td>44680</td>\n",
       "    </tr>\n",
       "  </tbody>\n",
       "</table>\n",
       "</div>"
      ],
      "text/plain": [
       "                                address category_code        city headcount  \\\n",
       "0          10085 SCRIPPS RANCH CT STE A      44420000   SAN DIEGO  50 to 99   \n",
       "1  2566 SHALLOWFORD RD NE STE 104 # 302      31490000     ATLANTA    1 to 4   \n",
       "2                         212 E MAIN ST      53120000      NEOSHO    1 to 4   \n",
       "3                      6032 CHEROKEE DR      54000000  CINCINNATI    1 to 4   \n",
       "4                    1315 N WOOSTER AVE      54100000   STRASBURG    1 to 4   \n",
       "\n",
       "                              name       phone                 revenue state  \\\n",
       "0                       AMD CUSTOM  3123628000       $20 to 50 Million    CA   \n",
       "1        Real Hope Real Estate Inc        None      Less Than $500,000    GA   \n",
       "2         Jimmy Sexton Photography  4046331779      Less Than $500,000    MO   \n",
       "3                       YOU'RE ART  4174513798      Less Than $500,000    OH   \n",
       "4  Hayberg Restoration Network LLC  5135612584  $500,000 to $1 Million    OH   \n",
       "\n",
       "  time_in_business    zip  \n",
       "0        10+ years  92131  \n",
       "1        10+ years  30345  \n",
       "2        10+ years  64850  \n",
       "3        10+ years  45243  \n",
       "4        10+ years  44680  "
      ]
     },
     "execution_count": 5,
     "metadata": {},
     "output_type": "execute_result"
    }
   ],
   "source": [
    "df.head()"
   ]
  },
  {
   "cell_type": "code",
   "execution_count": 6,
   "metadata": {
    "collapsed": false
   },
   "outputs": [
    {
     "data": {
      "text/html": [
       "<div>\n",
       "<table border=\"1\" class=\"dataframe\">\n",
       "  <thead>\n",
       "    <tr style=\"text-align: right;\">\n",
       "      <th></th>\n",
       "      <th>address</th>\n",
       "      <th>category_code</th>\n",
       "      <th>city</th>\n",
       "      <th>headcount</th>\n",
       "      <th>name</th>\n",
       "      <th>phone</th>\n",
       "      <th>revenue</th>\n",
       "      <th>state</th>\n",
       "      <th>time_in_business</th>\n",
       "      <th>zip</th>\n",
       "    </tr>\n",
       "  </thead>\n",
       "  <tbody>\n",
       "    <tr>\n",
       "      <th>count</th>\n",
       "      <td>999986</td>\n",
       "      <td>999986</td>\n",
       "      <td>999986</td>\n",
       "      <td>962352</td>\n",
       "      <td>999986</td>\n",
       "      <td>590889</td>\n",
       "      <td>943092</td>\n",
       "      <td>999986</td>\n",
       "      <td>916125</td>\n",
       "      <td>999988</td>\n",
       "    </tr>\n",
       "    <tr>\n",
       "      <th>unique</th>\n",
       "      <td>892120</td>\n",
       "      <td>1184</td>\n",
       "      <td>13720</td>\n",
       "      <td>15</td>\n",
       "      <td>890723</td>\n",
       "      <td>575154</td>\n",
       "      <td>17</td>\n",
       "      <td>59</td>\n",
       "      <td>11</td>\n",
       "      <td>26397</td>\n",
       "    </tr>\n",
       "    <tr>\n",
       "      <th>top</th>\n",
       "      <td>1 S DEARBORN ST</td>\n",
       "      <td>61111000</td>\n",
       "      <td>NEW YORK</td>\n",
       "      <td>1 to 4</td>\n",
       "      <td>Farmers Insurance</td>\n",
       "      <td>3037705531</td>\n",
       "      <td>Less Than $500,000</td>\n",
       "      <td>CA</td>\n",
       "      <td>10+ years</td>\n",
       "      <td>10001</td>\n",
       "    </tr>\n",
       "    <tr>\n",
       "      <th>freq</th>\n",
       "      <td>76</td>\n",
       "      <td>39461</td>\n",
       "      <td>14264</td>\n",
       "      <td>358207</td>\n",
       "      <td>821</td>\n",
       "      <td>88</td>\n",
       "      <td>329635</td>\n",
       "      <td>122812</td>\n",
       "      <td>758867</td>\n",
       "      <td>1151</td>\n",
       "    </tr>\n",
       "  </tbody>\n",
       "</table>\n",
       "</div>"
      ],
      "text/plain": [
       "                address category_code      city headcount               name  \\\n",
       "count            999986        999986    999986    962352             999986   \n",
       "unique           892120          1184     13720        15             890723   \n",
       "top     1 S DEARBORN ST      61111000  NEW YORK    1 to 4  Farmers Insurance   \n",
       "freq                 76         39461     14264    358207                821   \n",
       "\n",
       "             phone             revenue   state time_in_business     zip  \n",
       "count       590889              943092  999986           916125  999988  \n",
       "unique      575154                  17      59               11   26397  \n",
       "top     3037705531  Less Than $500,000      CA        10+ years   10001  \n",
       "freq            88              329635  122812           758867    1151  "
      ]
     },
     "execution_count": 6,
     "metadata": {},
     "output_type": "execute_result"
    }
   ],
   "source": [
    "df.describe()"
   ]
  },
  {
   "cell_type": "markdown",
   "metadata": {},
   "source": [
    "## Fill Rate"
   ]
  },
  {
   "cell_type": "code",
   "execution_count": 28,
   "metadata": {
    "collapsed": false,
    "scrolled": true
   },
   "outputs": [
    {
     "data": {
      "text/html": [
       "<div>\n",
       "<table border=\"1\" class=\"dataframe\">\n",
       "  <thead>\n",
       "    <tr style=\"text-align: right;\">\n",
       "      <th></th>\n",
       "      <th>field</th>\n",
       "      <th>raw_count</th>\n",
       "      <th>fill_rate</th>\n",
       "    </tr>\n",
       "  </thead>\n",
       "  <tbody>\n",
       "    <tr>\n",
       "      <th>0</th>\n",
       "      <td>address</td>\n",
       "      <td>999986.0</td>\n",
       "      <td>0.999986</td>\n",
       "    </tr>\n",
       "    <tr>\n",
       "      <th>1</th>\n",
       "      <td>category_code</td>\n",
       "      <td>999986.0</td>\n",
       "      <td>0.999986</td>\n",
       "    </tr>\n",
       "    <tr>\n",
       "      <th>2</th>\n",
       "      <td>city</td>\n",
       "      <td>999986.0</td>\n",
       "      <td>0.999986</td>\n",
       "    </tr>\n",
       "    <tr>\n",
       "      <th>3</th>\n",
       "      <td>headcount</td>\n",
       "      <td>962352.0</td>\n",
       "      <td>0.962352</td>\n",
       "    </tr>\n",
       "    <tr>\n",
       "      <th>4</th>\n",
       "      <td>name</td>\n",
       "      <td>999986.0</td>\n",
       "      <td>0.999986</td>\n",
       "    </tr>\n",
       "    <tr>\n",
       "      <th>5</th>\n",
       "      <td>phone</td>\n",
       "      <td>590889.0</td>\n",
       "      <td>0.590889</td>\n",
       "    </tr>\n",
       "    <tr>\n",
       "      <th>6</th>\n",
       "      <td>revenue</td>\n",
       "      <td>943092.0</td>\n",
       "      <td>0.943092</td>\n",
       "    </tr>\n",
       "    <tr>\n",
       "      <th>7</th>\n",
       "      <td>state</td>\n",
       "      <td>999986.0</td>\n",
       "      <td>0.999986</td>\n",
       "    </tr>\n",
       "    <tr>\n",
       "      <th>8</th>\n",
       "      <td>time_in_business</td>\n",
       "      <td>916125.0</td>\n",
       "      <td>0.916125</td>\n",
       "    </tr>\n",
       "    <tr>\n",
       "      <th>9</th>\n",
       "      <td>zip</td>\n",
       "      <td>999988.0</td>\n",
       "      <td>0.999988</td>\n",
       "    </tr>\n",
       "  </tbody>\n",
       "</table>\n",
       "</div>"
      ],
      "text/plain": [
       "              field  raw_count  fill_rate\n",
       "0           address   999986.0   0.999986\n",
       "1     category_code   999986.0   0.999986\n",
       "2              city   999986.0   0.999986\n",
       "3         headcount   962352.0   0.962352\n",
       "4              name   999986.0   0.999986\n",
       "5             phone   590889.0   0.590889\n",
       "6           revenue   943092.0   0.943092\n",
       "7             state   999986.0   0.999986\n",
       "8  time_in_business   916125.0   0.916125\n",
       "9               zip   999988.0   0.999988"
      ]
     },
     "execution_count": 28,
     "metadata": {},
     "output_type": "execute_result"
    }
   ],
   "source": [
    "data_info = pd.DataFrame([df.notnull().sum(), df.notnull().sum()/len(df)]).T\n",
    "data_info.reset_index(inplace=True)\n",
    "data_info.rename(columns={'index': 'field', 0: 'raw_count', 1: 'fill_rate'}, inplace=True)\n",
    "data_info"
   ]
  },
  {
   "cell_type": "markdown",
   "metadata": {},
   "source": [
    "## True Value Fill Rate"
   ]
  },
  {
   "cell_type": "code",
   "execution_count": 89,
   "metadata": {
    "collapsed": false
   },
   "outputs": [],
   "source": [
    "tv = df.fillna(value=\"***\")"
   ]
  },
  {
   "cell_type": "code",
   "execution_count": 119,
   "metadata": {
    "collapsed": false,
    "scrolled": true
   },
   "outputs": [
    {
     "data": {
      "text/plain": [
       "***           409111\n",
       "3037705531        88\n",
       "6126255000        50\n",
       "8002574725        50\n",
       "2025475600        38\n",
       "2027202500        31\n",
       "2032450456        24\n",
       "none              22\n",
       "2017983300        21\n",
       "2025438060        21\n",
       "9728706000        20\n",
       "2022234777        19\n",
       "8009994328        18\n",
       "0                 18\n",
       "0                 18\n",
       "8055572300        17\n",
       "2149993000        15\n",
       "2016042100        15\n",
       "7043865681        15\n",
       "8668785865        14\n",
       "2175287541        13\n",
       "2017969400        12\n",
       "2033732211        12\n",
       "                  12\n",
       "2022610780        12\n",
       "null              11\n",
       "3239323200        11\n",
       "4062382500        11\n",
       "9042187922        11\n",
       "6082621234        11\n",
       "               ...  \n",
       "2174837887         1\n",
       "9725904450         1\n",
       "3014248696         1\n",
       "8173489222         1\n",
       "3602972646         1\n",
       "9259432208         1\n",
       "4102862449         1\n",
       "9076440386         1\n",
       "5043494901         1\n",
       "3255547893         1\n",
       "2183879322         1\n",
       "2126915611         1\n",
       "6053426777         1\n",
       "7149782837         1\n",
       "7194713520         1\n",
       "7162507500         1\n",
       "4087335163         1\n",
       "5612083770         1\n",
       "3104038022         1\n",
       "9083109490         1\n",
       "7327367001         1\n",
       "7192681325         1\n",
       "6195881100         1\n",
       "5412269363         1\n",
       "7406769220         1\n",
       "7183706700         1\n",
       "2483490753         1\n",
       "2122281226         1\n",
       "7078637600         1\n",
       "2122216070         1\n",
       "Name: phone, dtype: int64"
      ]
     },
     "execution_count": 119,
     "metadata": {},
     "output_type": "execute_result"
    }
   ],
   "source": [
    "tv.address.value_counts()\n",
    "tv.category_code.value_counts()\n",
    "tv.city.value_counts()\n",
    "tv.headcount.value_counts()\n",
    "tv.name.value_counts()\n",
    "tv.phone.value_counts()\n",
    "tv.revenue.value_counts()\n",
    "tv.state.value_counts()\n",
    "tv.time_in_business.value_counts()\n",
    "tv['zip'].value_counts()"
   ]
  },
  {
   "cell_type": "markdown",
   "metadata": {},
   "source": [
    "### commentary:\n",
    "> used above value counts as guides to create regex's for pruning below"
   ]
  },
  {
   "cell_type": "code",
   "execution_count": 123,
   "metadata": {
    "collapsed": true
   },
   "outputs": [],
   "source": [
    "true_val = pd.DataFrame(columns=[['raw_count', 'true_fill_rate']],\n",
    "                        index=df.columns)"
   ]
  },
  {
   "cell_type": "code",
   "execution_count": 124,
   "metadata": {
    "collapsed": false
   },
   "outputs": [
    {
     "name": "stderr",
     "output_type": "stream",
     "text": [
      "/Users/victorvulovic/anaconda/lib/python3.5/site-packages/ipykernel/__main__.py:2: UserWarning: This pattern has match groups. To actually get the groups, use str.extract.\n",
      "  from ipykernel import kernelapp as app\n",
      "/Users/victorvulovic/anaconda/lib/python3.5/site-packages/ipykernel/__main__.py:3: UserWarning: This pattern has match groups. To actually get the groups, use str.extract.\n",
      "  app.launch_new_instance()\n",
      "/Users/victorvulovic/anaconda/lib/python3.5/site-packages/ipykernel/__main__.py:4: UserWarning: This pattern has match groups. To actually get the groups, use str.extract.\n",
      "/Users/victorvulovic/anaconda/lib/python3.5/site-packages/ipykernel/__main__.py:14: UserWarning: This pattern has match groups. To actually get the groups, use str.extract.\n"
     ]
    },
    {
     "data": {
      "text/html": [
       "<div>\n",
       "<table border=\"1\" class=\"dataframe\">\n",
       "  <thead>\n",
       "    <tr style=\"text-align: right;\">\n",
       "      <th></th>\n",
       "      <th>raw_count</th>\n",
       "      <th>true_fill_rate</th>\n",
       "    </tr>\n",
       "  </thead>\n",
       "  <tbody>\n",
       "    <tr>\n",
       "      <th>address</th>\n",
       "      <td>994582</td>\n",
       "      <td>0.994582</td>\n",
       "    </tr>\n",
       "    <tr>\n",
       "      <th>category_code</th>\n",
       "      <td>999910</td>\n",
       "      <td>0.999910</td>\n",
       "    </tr>\n",
       "    <tr>\n",
       "      <th>city</th>\n",
       "      <td>999895</td>\n",
       "      <td>0.999895</td>\n",
       "    </tr>\n",
       "    <tr>\n",
       "      <th>headcount</th>\n",
       "      <td>962288</td>\n",
       "      <td>0.962288</td>\n",
       "    </tr>\n",
       "    <tr>\n",
       "      <th>name</th>\n",
       "      <td>999949</td>\n",
       "      <td>0.999949</td>\n",
       "    </tr>\n",
       "    <tr>\n",
       "      <th>phone</th>\n",
       "      <td>581380</td>\n",
       "      <td>0.581380</td>\n",
       "    </tr>\n",
       "    <tr>\n",
       "      <th>revenue</th>\n",
       "      <td>943001</td>\n",
       "      <td>0.943001</td>\n",
       "    </tr>\n",
       "    <tr>\n",
       "      <th>state</th>\n",
       "      <td>999896</td>\n",
       "      <td>0.999896</td>\n",
       "    </tr>\n",
       "    <tr>\n",
       "      <th>time_in_business</th>\n",
       "      <td>916048</td>\n",
       "      <td>0.916048</td>\n",
       "    </tr>\n",
       "    <tr>\n",
       "      <th>zip</th>\n",
       "      <td>953374</td>\n",
       "      <td>0.953374</td>\n",
       "    </tr>\n",
       "  </tbody>\n",
       "</table>\n",
       "</div>"
      ],
      "text/plain": [
       "                 raw_count  true_fill_rate\n",
       "address             994582        0.994582\n",
       "category_code       999910        0.999910\n",
       "city                999895        0.999895\n",
       "headcount           962288        0.962288\n",
       "name                999949        0.999949\n",
       "phone               581380        0.581380\n",
       "revenue             943001        0.943001\n",
       "state               999896        0.999896\n",
       "time_in_business    916048        0.916048\n",
       "zip                 953374        0.953374"
      ]
     },
     "execution_count": 124,
     "metadata": {},
     "output_type": "execute_result"
    }
   ],
   "source": [
    "add_match ='\\d+ (\\w+ ){1,5}(\\w+)?\\#?( \\w+[\\-]?\\d+)?'\n",
    "true_val.loc['address']['raw_count'] = tv['address'].str.contains(add_match).sum()\n",
    "true_val.loc['category_code']['raw_count'] = tv['category_code'].str.contains('(\\d){8}').sum()\n",
    "true_val.loc['city']['raw_count'] = tv['city'].str.contains('([A-Z])+').sum()\n",
    "hc_match = '\\d+ to \\d+|Over \\d,\\d+|0'\n",
    "true_val.loc['headcount']['raw_count'] = tv['headcount'].str.contains(hc_match).sum()\n",
    "true_val.loc['name']['raw_count'] = tv['name'].str.contains('\\w+').sum()\n",
    "true_val.loc['phone']['raw_count'] = tv['phone'].str.contains('\\d{10}').sum()\n",
    "rev_match = 'Less Than \\$\\d+,\\d+|\\$\\d?.+ to \\d?.+ [BM]illion|Over \\d?.+ [BM]illion'\n",
    "true_val.loc['revenue']['raw_count'] = tv['revenue'].str.contains(rev_match).sum()\n",
    "true_val.loc['state']['raw_count'] = tv['state'].str.contains('[A-Z]{2}').sum()\n",
    "TIB_match = '\\d[\\+-\\-]?\\d+[\\+-\\-]? years|Less than a year'\n",
    "true_val.loc['time_in_business']['raw_count'] = tv['time_in_business'].str.contains(TIB_match).sum()\n",
    "true_val.loc['zip']['raw_count'] = tv['zip'].str.contains('(\\d){5}').sum()\n",
    "true_val['true_fill_rate'] = true_val['raw_count'].apply(lambda x: x/len(df))\n",
    "true_val"
   ]
  },
  {
   "cell_type": "markdown",
   "metadata": {},
   "source": [
    "## Cardinality\n",
    ">**note:** this is cardinality of the raw dataset, without removing irrelevant values."
   ]
  },
  {
   "cell_type": "code",
   "execution_count": 127,
   "metadata": {
    "collapsed": false
   },
   "outputs": [],
   "source": [
    "data_info['cardinality'] = data_info['field'].apply(lambda x: df[x].nunique())"
   ]
  },
  {
   "cell_type": "code",
   "execution_count": 128,
   "metadata": {
    "collapsed": false
   },
   "outputs": [
    {
     "data": {
      "text/html": [
       "<div>\n",
       "<table border=\"1\" class=\"dataframe\">\n",
       "  <thead>\n",
       "    <tr style=\"text-align: right;\">\n",
       "      <th></th>\n",
       "      <th>field</th>\n",
       "      <th>cardinality</th>\n",
       "    </tr>\n",
       "  </thead>\n",
       "  <tbody>\n",
       "    <tr>\n",
       "      <th>0</th>\n",
       "      <td>address</td>\n",
       "      <td>892120</td>\n",
       "    </tr>\n",
       "    <tr>\n",
       "      <th>1</th>\n",
       "      <td>category_code</td>\n",
       "      <td>1184</td>\n",
       "    </tr>\n",
       "    <tr>\n",
       "      <th>2</th>\n",
       "      <td>city</td>\n",
       "      <td>13720</td>\n",
       "    </tr>\n",
       "    <tr>\n",
       "      <th>3</th>\n",
       "      <td>headcount</td>\n",
       "      <td>15</td>\n",
       "    </tr>\n",
       "    <tr>\n",
       "      <th>4</th>\n",
       "      <td>name</td>\n",
       "      <td>890723</td>\n",
       "    </tr>\n",
       "    <tr>\n",
       "      <th>5</th>\n",
       "      <td>phone</td>\n",
       "      <td>575154</td>\n",
       "    </tr>\n",
       "    <tr>\n",
       "      <th>6</th>\n",
       "      <td>revenue</td>\n",
       "      <td>17</td>\n",
       "    </tr>\n",
       "    <tr>\n",
       "      <th>7</th>\n",
       "      <td>state</td>\n",
       "      <td>59</td>\n",
       "    </tr>\n",
       "    <tr>\n",
       "      <th>8</th>\n",
       "      <td>time_in_business</td>\n",
       "      <td>11</td>\n",
       "    </tr>\n",
       "    <tr>\n",
       "      <th>9</th>\n",
       "      <td>zip</td>\n",
       "      <td>26397</td>\n",
       "    </tr>\n",
       "  </tbody>\n",
       "</table>\n",
       "</div>"
      ],
      "text/plain": [
       "              field  cardinality\n",
       "0           address       892120\n",
       "1     category_code         1184\n",
       "2              city        13720\n",
       "3         headcount           15\n",
       "4              name       890723\n",
       "5             phone       575154\n",
       "6           revenue           17\n",
       "7             state           59\n",
       "8  time_in_business           11\n",
       "9               zip        26397"
      ]
     },
     "execution_count": 128,
     "metadata": {},
     "output_type": "execute_result"
    }
   ],
   "source": [
    "data_info[['field', 'cardinality']]"
   ]
  },
  {
   "cell_type": "code",
   "execution_count": 8,
   "metadata": {
    "collapsed": false
   },
   "outputs": [
    {
     "data": {
      "text/html": [
       "<div>\n",
       "<table border=\"1\" class=\"dataframe\">\n",
       "  <thead>\n",
       "    <tr style=\"text-align: right;\">\n",
       "      <th></th>\n",
       "      <th>address</th>\n",
       "      <th>category_code</th>\n",
       "      <th>city</th>\n",
       "      <th>headcount</th>\n",
       "      <th>name</th>\n",
       "      <th>phone</th>\n",
       "      <th>revenue</th>\n",
       "      <th>state</th>\n",
       "      <th>time_in_business</th>\n",
       "      <th>zip</th>\n",
       "    </tr>\n",
       "  </thead>\n",
       "  <tbody>\n",
       "    <tr>\n",
       "      <th>0</th>\n",
       "      <td>10085 SCRIPPS RANCH CT STE A</td>\n",
       "      <td>44420000</td>\n",
       "      <td>SAN DIEGO</td>\n",
       "      <td>50 to 99</td>\n",
       "      <td>AMD CUSTOM</td>\n",
       "      <td>3123628000</td>\n",
       "      <td>$20 to 50 Million</td>\n",
       "      <td>CA</td>\n",
       "      <td>10+ years</td>\n",
       "      <td>92131</td>\n",
       "    </tr>\n",
       "    <tr>\n",
       "      <th>1</th>\n",
       "      <td>2566 SHALLOWFORD RD NE STE 104 # 302</td>\n",
       "      <td>31490000</td>\n",
       "      <td>ATLANTA</td>\n",
       "      <td>1 to 4</td>\n",
       "      <td>Real Hope Real Estate Inc</td>\n",
       "      <td>None</td>\n",
       "      <td>Less Than $500,000</td>\n",
       "      <td>GA</td>\n",
       "      <td>10+ years</td>\n",
       "      <td>30345</td>\n",
       "    </tr>\n",
       "    <tr>\n",
       "      <th>2</th>\n",
       "      <td>212 E MAIN ST</td>\n",
       "      <td>53120000</td>\n",
       "      <td>NEOSHO</td>\n",
       "      <td>1 to 4</td>\n",
       "      <td>Jimmy Sexton Photography</td>\n",
       "      <td>4046331779</td>\n",
       "      <td>Less Than $500,000</td>\n",
       "      <td>MO</td>\n",
       "      <td>10+ years</td>\n",
       "      <td>64850</td>\n",
       "    </tr>\n",
       "    <tr>\n",
       "      <th>3</th>\n",
       "      <td>6032 CHEROKEE DR</td>\n",
       "      <td>54000000</td>\n",
       "      <td>CINCINNATI</td>\n",
       "      <td>1 to 4</td>\n",
       "      <td>YOU'RE ART</td>\n",
       "      <td>4174513798</td>\n",
       "      <td>Less Than $500,000</td>\n",
       "      <td>OH</td>\n",
       "      <td>10+ years</td>\n",
       "      <td>45243</td>\n",
       "    </tr>\n",
       "    <tr>\n",
       "      <th>4</th>\n",
       "      <td>1315 N WOOSTER AVE</td>\n",
       "      <td>54100000</td>\n",
       "      <td>STRASBURG</td>\n",
       "      <td>1 to 4</td>\n",
       "      <td>Hayberg Restoration Network LLC</td>\n",
       "      <td>5135612584</td>\n",
       "      <td>$500,000 to $1 Million</td>\n",
       "      <td>OH</td>\n",
       "      <td>10+ years</td>\n",
       "      <td>44680</td>\n",
       "    </tr>\n",
       "  </tbody>\n",
       "</table>\n",
       "</div>"
      ],
      "text/plain": [
       "                                address category_code        city headcount  \\\n",
       "0          10085 SCRIPPS RANCH CT STE A      44420000   SAN DIEGO  50 to 99   \n",
       "1  2566 SHALLOWFORD RD NE STE 104 # 302      31490000     ATLANTA    1 to 4   \n",
       "2                         212 E MAIN ST      53120000      NEOSHO    1 to 4   \n",
       "3                      6032 CHEROKEE DR      54000000  CINCINNATI    1 to 4   \n",
       "4                    1315 N WOOSTER AVE      54100000   STRASBURG    1 to 4   \n",
       "\n",
       "                              name       phone                 revenue state  \\\n",
       "0                       AMD CUSTOM  3123628000       $20 to 50 Million    CA   \n",
       "1        Real Hope Real Estate Inc        None      Less Than $500,000    GA   \n",
       "2         Jimmy Sexton Photography  4046331779      Less Than $500,000    MO   \n",
       "3                       YOU'RE ART  4174513798      Less Than $500,000    OH   \n",
       "4  Hayberg Restoration Network LLC  5135612584  $500,000 to $1 Million    OH   \n",
       "\n",
       "  time_in_business    zip  \n",
       "0        10+ years  92131  \n",
       "1        10+ years  30345  \n",
       "2        10+ years  64850  \n",
       "3        10+ years  45243  \n",
       "4        10+ years  44680  "
      ]
     },
     "execution_count": 8,
     "metadata": {},
     "output_type": "execute_result"
    }
   ],
   "source": [
    "df.head()"
   ]
  },
  {
   "cell_type": "code",
   "execution_count": 25,
   "metadata": {
    "collapsed": false
   },
   "outputs": [],
   "source": [
    "group = df[df['state'].str.contains('[A-Z]{2}')==True]"
   ]
  },
  {
   "cell_type": "code",
   "execution_count": 32,
   "metadata": {
    "collapsed": false
   },
   "outputs": [],
   "source": [
    "rev_by_state = group.groupby(['state', 'revenue'], as_index=False).count()"
   ]
  },
  {
   "cell_type": "code",
   "execution_count": 37,
   "metadata": {
    "collapsed": true
   },
   "outputs": [],
   "source": [
    "high_rollers = rev_by_state[rev_by_state['revenue'] == 'Over $1 Billion']"
   ]
  },
  {
   "cell_type": "code",
   "execution_count": 63,
   "metadata": {
    "collapsed": false
   },
   "outputs": [
    {
     "data": {
      "image/png": "[encoded data removed]",
      "text/plain": [
       "<matplotlib.figure.Figure at 0x177275a58>"
      ]
     },
     "metadata": {},
     "output_type": "display_data"
    }
   ],
   "source": [
    "dims = (12, 7)\n",
    "sns.set(font_scale=1.5)\n",
    "fig, ax = pyplot.subplots(figsize=dims)\n",
    "plt.title(\"High Rollers by State\", fontsize = 24)\n",
    "bills = sns.barplot(x='state', y='address', data=high_rollers)\n",
    "bills.set(ylabel=\"Number of Billion Dollar Businesses\", xlabel='State')\n",
    "for item in bills.get_xticklabels():\n",
    "    item.set_rotation(75)"
   ]
  }
 ],
 "metadata": {
  "kernelspec": {
   "display_name": "Python 3",
   "language": "python",
   "name": "python3"
  },
  "language_info": {
   "codemirror_mode": {
    "name": "ipython",
    "version": 3
   },
   "file_extension": ".py",
   "mimetype": "text/x-python",
   "name": "python",
   "nbconvert_exporter": "python",
   "pygments_lexer": "ipython3",
   "version": "3.5.2"
  }
 },
 "nbformat": 4,
 "nbformat_minor": 0
}
